{
 "cells": [
  {
   "cell_type": "markdown",
   "id": "00f7bfaa",
   "metadata": {},
   "source": [
    "Primero se importa json y Counter que serán utilizadas más tarde"
   ]
  },
  {
   "cell_type": "code",
   "execution_count": null,
   "id": "0f42c63b",
   "metadata": {},
   "outputs": [],
   "source": [
    "import json\n",
    "from collections import Counter"
   ]
  },
  {
   "cell_type": "markdown",
   "id": "385bff76",
   "metadata": {},
   "source": [
    "Luego abrimos el archivo y lo cargamos en una lista"
   ]
  },
  {
   "cell_type": "code",
   "execution_count": null,
   "id": "579efc0d",
   "metadata": {},
   "outputs": [],
   "source": [
    "with open('farmers-protest-tweets-2021-03-5.json', 'r', encoding='UTF-8') as f:\n",
    "    data = [json.loads(line) for line in f]"
   ]
  },
  {
   "cell_type": "markdown",
   "id": "12ba0798",
   "metadata": {},
   "source": [
    "Luego escribimos las 4 funciones"
   ]
  },
  {
   "cell_type": "code",
   "execution_count": null,
   "id": "bb4bafc8",
   "metadata": {},
   "outputs": [],
   "source": [
    "def funcion1():\n",
    "    lista1 = (sorted(data, key = lambda i: i[\"retweetCount\"],reverse=True))\n",
    "    lista1 = lista1[:10]\n",
    "    for element in lista1:\n",
    "        print(\"\\t\", lista1.index(element)+1, \".-\", element[\"content\"], \"\\n\")"
   ]
  },
  {
   "cell_type": "code",
   "execution_count": null,
   "id": "fe8b1316",
   "metadata": {},
   "outputs": [],
   "source": [
    "def funcion2():\n",
    "    lista2 = []\n",
    "    for tweet in data:\n",
    "        lista2.append(tweet[\"user\"][\"username\"])\n",
    "    c = Counter(lista2)\n",
    "    c = c.most_common(10)\n",
    "    for lista in c:\n",
    "        print(\"\\t\", c.index(lista)+1, \".-\", (lista[0]), \"\\n\")"
   ]
  },
  {
   "cell_type": "code",
   "execution_count": null,
   "id": "741c8ec7",
   "metadata": {},
   "outputs": [],
   "source": [
    "def funcion3():\n",
    "    lista3 = []\n",
    "    for tweet in data:\n",
    "        lista3.append(tweet[\"date\"][:10])\n",
    "    c = Counter(lista3)\n",
    "    c = c.most_common(10)\n",
    "    for lista in c:\n",
    "        print(\"\\t\", c.index(lista)+1, \".-\", lista[0], \"\\n\")"
   ]
  },
  {
   "cell_type": "code",
   "execution_count": null,
   "id": "76be538c",
   "metadata": {},
   "outputs": [],
   "source": [
    "def funcion4():\n",
    "    lista4 = []\n",
    "    for tweet in data:\n",
    "        for word in tweet[\"content\"].split():\n",
    "            if word[0] == \"#\":\n",
    "                lista4.append(word)\n",
    "    c = Counter(lista4)\n",
    "    c = c.most_common(10)\n",
    "    for lista in c:\n",
    "        print(\"\\t\", c.index(lista)+1, \".-\", lista[0], \"\\n\")"
   ]
  },
  {
   "cell_type": "markdown",
   "id": "1b322007",
   "metadata": {},
   "source": [
    "Finalmente ejecutamos las funciones desde la función main (se pueden comentar para ver alguna en específico)"
   ]
  },
  {
   "cell_type": "code",
   "execution_count": null,
   "id": "9e26268c",
   "metadata": {},
   "outputs": [],
   "source": [
    "if __name__ == '__main__':\n",
    "    print(\"Top 10 tweets mas tweeteados:\\n\")\n",
    "    funcion1()\n",
    "    print(\"Top 10 usuarios con mas tweets:\\n\")\n",
    "    funcion2()\n",
    "    print(\"Top 10 dias con mas tweets:\\n\")\n",
    "    funcion3()\n",
    "    print(\"Top 10 hashtags mas usados:\\n\")\n",
    "    funcion4()"
   ]
  }
 ],
 "metadata": {
  "kernelspec": {
   "display_name": "Python 3 (ipykernel)",
   "language": "python",
   "name": "python3"
  },
  "language_info": {
   "codemirror_mode": {
    "name": "ipython",
    "version": 3
   },
   "file_extension": ".py",
   "mimetype": "text/x-python",
   "name": "python",
   "nbconvert_exporter": "python",
   "pygments_lexer": "ipython3",
   "version": "3.10.2"
  }
 },
 "nbformat": 4,
 "nbformat_minor": 5
}
