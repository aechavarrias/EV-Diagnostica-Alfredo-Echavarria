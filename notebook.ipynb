{
 "cells": [
  {
   "cell_type": "code",
   "execution_count": 1,
   "id": "448f6ea7",
   "metadata": {},
   "outputs": [],
   "source": [
    "import json\n",
    "from collections import Counter"
   ]
  },
  {
   "cell_type": "code",
   "execution_count": 2,
   "id": "579efc0d",
   "metadata": {},
   "outputs": [],
   "source": [
    "with open('farmers-protest-tweets-2021-03-5.json', 'r', encoding='UTF-8') as f:\n",
    "    data = [json.loads(line) for line in f]"
   ]
  },
  {
   "cell_type": "code",
   "execution_count": 25,
   "id": "bb4bafc8",
   "metadata": {},
   "outputs": [],
   "source": [
    "def funcion1():\n",
    "    lista1 = (sorted(data, key = lambda i: i[\"retweetCount\"],reverse=True))\n",
    "    lista1 = lista1[:10]\n",
    "    for element in lista1:\n",
    "        print(\"\\t\", lista1.index(element)+1, \".-\", element[\"content\"], \"\\n\")"
   ]
  },
  {
   "cell_type": "code",
   "execution_count": 26,
   "id": "fe8b1316",
   "metadata": {},
   "outputs": [],
   "source": [
    "def funcion2():\n",
    "    lista2 = []\n",
    "    for tweet in data:\n",
    "        lista2.append(tweet[\"user\"][\"username\"])\n",
    "    c = Counter(lista2)\n",
    "    c = c.most_common(10)\n",
    "    for lista in c:\n",
    "        print(\"\\t\", c.index(lista)+1, \".-\", (lista[0]), \"\\n\")"
   ]
  },
  {
   "cell_type": "code",
   "execution_count": 27,
   "id": "741c8ec7",
   "metadata": {},
   "outputs": [],
   "source": [
    "def funcion3():\n",
    "    lista3 = []\n",
    "    for tweet in data:\n",
    "        lista3.append(tweet[\"date\"][:10])\n",
    "    c = Counter(lista3)\n",
    "    c = c.most_common(10)\n",
    "    for lista in c:\n",
    "        print(\"\\t\", c.index(lista)+1, \".-\", lista[0], \"\\n\")"
   ]
  },
  {
   "cell_type": "code",
   "execution_count": 28,
   "id": "76be538c",
   "metadata": {},
   "outputs": [],
   "source": [
    "def funcion4():\n",
    "    lista4 = []\n",
    "    for tweet in data:\n",
    "        for word in tweet[\"content\"].split():\n",
    "            if word[0] == \"#\":\n",
    "                lista4.append(word)\n",
    "    c = Counter(lista4)\n",
    "    c = c.most_common(10)\n",
    "    for lista in c:\n",
    "        print(\"\\t\", c.index(lista)+1, \".-\", lista[0], \"\\n\")"
   ]
  },
  {
   "cell_type": "code",
   "execution_count": 30,
   "id": "9e26268c",
   "metadata": {},
   "outputs": [
    {
     "name": "stdout",
     "output_type": "stream",
     "text": [
      "Top 10 tweets mas tweeteados:\n",
      "\n",
      "\t 1 .- why aren’t we talking about this?! #FarmersProtest https://t.co/obmIlXhK9S \n",
      "\n",
      "\t 2 .- We stand in solidarity with the #FarmersProtest in India.\n",
      " https://t.co/tqvR0oHgo0 \n",
      "\n",
      "\t 3 .- I still #StandWithFarmers and support their peaceful protest.\n",
      "No amount of hate, threats or violations of human rights will ever change that. #FarmersProtest \n",
      "\n",
      "\t 4 .- “Paid actors,” huh? Quite the casting director, I hope they’re not overlooked during awards season. I stand with the farmers. #FarmersProtest https://t.co/moONj03tN0 \n",
      "\n",
      "\t 5 .- What in the human rights violations is going on?! They cut the internet around New Delhi?! #FarmersProtest https://t.co/a5ml1P2ikU \n",
      "\n",
      "\t 6 .- Happy to share that I’ve donated $10,000 to provide medical assistance to the farmers in need in India to help save lives during these times. I hope we can prevent any additional life from being lost. 🙏🏾 #FarmersProtest https://t.co/0WoEw0l3ij \n",
      "\n",
      "\t 7 .- There has been much social media coverage around the #FarmersProtest in #India. Very useful guide to the legislation and the impact on farmers. 1/2 https://t.co/3CsdgBebdZ \n",
      "\n",
      "\t 8 .- Farmers feed the world. Fight for them. Protect them #FarmersProtest \n",
      "\n",
      "\t 9 .- Should be talking about this! #FarmersProtest\n",
      "\n",
      "https://t.co/Xh09iTvVoF \n",
      "\n",
      "\t 10 .- To all of my influencer/celeb friends- read up on this   #FarmersProtest 👀 \n",
      "\n",
      "Top 10 usuarios con mas tweets:\n",
      "\n",
      "\t 1 .- harjot_tweeting \n",
      "\n",
      "\t 2 .- tasveersandhu \n",
      "\n",
      "\t 3 .- shells_n_petals \n",
      "\n",
      "\t 4 .- jot__b \n",
      "\n",
      "\t 5 .- rebelpacifist \n",
      "\n",
      "\t 6 .- rumsomal \n",
      "\n",
      "\t 7 .- Iamjazzie96 \n",
      "\n",
      "\t 8 .- Jass_k_G \n",
      "\n",
      "\t 9 .- DigitalKisanBot \n",
      "\n",
      "\t 10 .- z_khalique007 \n",
      "\n",
      "Top 10 dias con mas tweets:\n",
      "\n",
      "\t 1 .- 2021-02-03 \n",
      "\n",
      "\t 2 .- 2021-02-04 \n",
      "\n",
      "\t 3 .- 2021-02-05 \n",
      "\n",
      "\t 4 .- 2021-02-02 \n",
      "\n",
      "\t 5 .- 2021-02-06 \n",
      "\n",
      "\t 6 .- 2021-02-07 \n",
      "\n",
      "\t 7 .- 2021-02-09 \n",
      "\n",
      "\t 8 .- 2021-02-08 \n",
      "\n",
      "\t 9 .- 2021-02-10 \n",
      "\n",
      "\t 10 .- 2021-02-11 \n",
      "\n",
      "Top 10 hashtags mas usados:\n",
      "\n",
      "\t 1 .- #FarmersProtest \n",
      "\n",
      "\t 2 .- #IStandWithFarmers \n",
      "\n",
      "\t 3 .- #farmersprotest \n",
      "\n",
      "\t 4 .- #IndianFarmersHumanRights \n",
      "\n",
      "\t 5 .- #FarmersAreIndia \n",
      "\n",
      "\t 6 .- #StandWithFarmers \n",
      "\n",
      "\t 7 .- #Rihanna \n",
      "\n",
      "\t 8 .- #FarmersProtests \n",
      "\n",
      "\t 9 .- #Farmers \n",
      "\n",
      "\t 10 .- #shameonbollywood \n",
      "\n"
     ]
    }
   ],
   "source": [
    "if __name__ == '__main__':\n",
    "    print(\"Top 10 tweets mas tweeteados:\\n\")\n",
    "    funcion1()\n",
    "    print(\"Top 10 usuarios con mas tweets:\\n\")\n",
    "    funcion2()\n",
    "    print(\"Top 10 dias con mas tweets:\\n\")\n",
    "    funcion3()\n",
    "    print(\"Top 10 hashtags mas usados:\\n\")\n",
    "    funcion4()"
   ]
  }
 ],
 "metadata": {
  "kernelspec": {
   "display_name": "Python 3 (ipykernel)",
   "language": "python",
   "name": "python3"
  },
  "language_info": {
   "codemirror_mode": {
    "name": "ipython",
    "version": 3
   },
   "file_extension": ".py",
   "mimetype": "text/x-python",
   "name": "python",
   "nbconvert_exporter": "python",
   "pygments_lexer": "ipython3",
   "version": "3.10.2"
  }
 },
 "nbformat": 4,
 "nbformat_minor": 5
}
